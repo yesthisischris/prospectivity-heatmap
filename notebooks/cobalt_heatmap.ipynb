{
 "cells": [
  {
   "cell_type": "markdown",
   "id": "0568f0b7",
   "metadata": {},
   "source": [
    "## Project Overview\n",
    "\n"
   ]
  },
  {
   "cell_type": "markdown",
   "id": "2c8ad0cc",
   "metadata": {},
   "source": [
    "## Import Libraries"
   ]
  },
  {
   "cell_type": "code",
   "execution_count": 1,
   "id": "2c644aa4",
   "metadata": {},
   "outputs": [],
   "source": [
    "import pandas as pd\n",
    "import geopandas as gpd\n",
    "from pathlib import Path\n",
    "import os\n",
    "from __future__ import annotations\n",
    "\n",
    "# Set the working directory to the project root\n",
    "project_root = Path().resolve().parent\n",
    "os.chdir(project_root)\n",
    "\n",
    "# import local modules\n",
    "import prospectivity_tools as pt"
   ]
  },
  {
   "cell_type": "code",
   "execution_count": 2,
   "id": "a060f91e",
   "metadata": {},
   "outputs": [],
   "source": [
    "# todo--delete??\n",
    "\n",
    "# Step 1: Define paths\n",
    "parquet_path = Path(pt.settings.paths[\"parquet\"])\n",
    "html_path = Path(pt.settings.paths[\"interactive_html\"])\n",
    "\n",
    "# Step 2: Handle existing files\n",
    "overwrite = True  # Set to True if you want to overwrite existing outputs\n",
    "skip_existing = False  # Set to True if you want to skip processing if dataset_descriptions exist\n",
    "\n",
    "if (parquet_path.exists() or html_path.exists()) and not overwrite:\n",
    "    if skip_existing:\n",
    "        gdf_cols_description(\"gdf_cols_descriptions already exist, skipping\")\n",
    "    else:\n",
    "        raise Exception(\"gdf_cols_description files exist. Use overwrite=True or skip_existing=True.\")\n"
   ]
  },
  {
   "cell_type": "code",
   "execution_count": 3,
   "id": "35f8973b",
   "metadata": {},
   "outputs": [],
   "source": [
    "# Read in geopackage\n",
    "gdf = gpd.read_file(pt.settings.paths[\"input_gpkg\"], engine=\"pyogrio\").to_crs(pt.settings.crs)"
   ]
  },
  {
   "cell_type": "code",
   "execution_count": 4,
   "id": "02443a77",
   "metadata": {},
   "outputs": [],
   "source": [
    "# gdf.explore()"
   ]
  },
  {
   "cell_type": "code",
   "execution_count": 5,
   "id": "51f93dd6",
   "metadata": {},
   "outputs": [],
   "source": [
    "# print(gdf.info())"
   ]
  },
  {
   "cell_type": "code",
   "execution_count": 6,
   "id": "6e1b5f47",
   "metadata": {},
   "outputs": [],
   "source": [
    "# gdf_cols_description = pt.df_more_info(gdf)\n",
    "# print(gdf_cols_description)"
   ]
  },
  {
   "cell_type": "code",
   "execution_count": 7,
   "id": "80be1e5e",
   "metadata": {},
   "outputs": [],
   "source": [
    "##PARAMETERS (todo)\n",
    "\n",
    "# adjustable fall-off distance parameter. \n",
    "# Fuzzy Gamma? https://link.springer.com/article/10.1007/s11053-023-10255-8#:~:text=match%20at%20L755%20geophysical%20response,intermediate%20layers%20were%20then%20combined"
   ]
  },
  {
   "cell_type": "markdown",
   "id": "5dbbbe0b",
   "metadata": {},
   "source": [
    "# Notes: \n",
    "Good columns: \n",
    "\n",
    "    -upid--unique\n",
    "    -area_m2--min 9322 max much bigger\n",
    "\n",
    "questions\n",
    "\n",
    "    -era\n",
    "    -gid\n",
    "    -strat_unit\n",
    "    -period\n",
    "    -strat_age\n",
    "    -strat_name\n",
    "    -gp_suite"
   ]
  },
  {
   "cell_type": "code",
   "execution_count": 8,
   "id": "f8e42382",
   "metadata": {},
   "outputs": [],
   "source": [
    "# from llama_index.llms.openai import OpenAI\n",
    "# from llama_index.core import Settings\n",
    "\n",
    "# # Initialize the LLM\n",
    "# llm = OpenAI(model=\"gpt-4o\", temperature=0)\n",
    "\n",
    "# # Set the LLM in global settings\n",
    "# Settings.llm = llm\n",
    "\n",
    "# prompt = f\"\"\"\n",
    "# Describe the columns in the geopandas dataframe in plain english: \n",
    "# {str(gdf_cols_description + str(gdf.info()))[0:1000]} \n",
    "# Here is the complete info. Discuss your interpretation of what they mean. \n",
    "# Use regular line breaks in your response (encode wrapping) \"\"\"\n",
    "\n",
    "# # Input a string and get a string back\n",
    "# response = llm.complete(prompt)\n",
    "# print(response)\n",
    "\n",
    "# ## Todo, finish and make clean"
   ]
  },
  {
   "cell_type": "markdown",
   "id": "156efe1e",
   "metadata": {},
   "source": [
    "# Todo: clean up\n",
    "\n",
    "Essential / high‑leverage columns\n",
    "- geometry: shape data needed to calculate distances and overlays\n",
    "- rock_type: specific lithology (e.g. granodiorite, ultramafic) used for proximity scoring\n",
    "- rock_class: general rock group (e.g. sedimentary, metamorphic); useful backup\n",
    "- unit_desc: full-text description with keywords like \"serpentinite\" or \"granodiorite\"\n",
    "- strat_name: formal stratigraphic name; useful if rock_type is missing\n",
    "- gp_suite: geological suite name; often overlaps with strat_name\n",
    "- strat_unit: identifier for mapped unit; may carry lithological meaning\n",
    "- area_m2: polygon area; helpful for QA on slivers or spatial joins\n",
    "\n",
    "Potentially handy columns\n",
    "- era: general geologic time range; not used directly in model\n",
    "- period: finer temporal grouping; unused in this assignment\n",
    "- strat_age: stratigraphic age (e.g. Upper Triassic); good for context\n",
    "- age_min: minimum mapped age; not relevant to proximity rules\n",
    "- age_max: maximum mapped age; same as above\n",
    "- belt: tectonic belt (e.g. Coast); offers geologic context\n",
    "- terrane: structural terrane (e.g. Quesnellia); useful for regional framing\n",
    "- basin_age: age of basin fill; rare and unused\n",
    "- rk_char: rarely used rock modifiers (e.g. “leuco”); low info content\n",
    "\n",
    "Mostly metadata / least useful columns\n",
    "- gid: numeric record ID; useful for joins only\n",
    "- upid: unique hash-like ID; same as above\n",
    "- project: mapping project name (e.g. “Okanagan”); not needed for modeling\n",
    "- map_comp: author and date of compilation; metadata only\n",
    "- src_url: link to source publication; citation only\n",
    "- src_ref_s: text citation string; for documentation\n",
    "- pub_org: publisher (always BCGS); not relevant to logic\n",
    "- edit_date: constant value (“2018-04-05”); not informative\n",
    "- basin: mostly None; no lithological utility\n",
    "- mem_phase: sub-unit info; mostly empty\n",
    "- fm_lithodm: formal formation info; mostly empty"
   ]
  },
  {
   "cell_type": "code",
   "execution_count": 9,
   "id": "0d27a2c7",
   "metadata": {},
   "outputs": [],
   "source": [
    "## Todo clean up\n",
    "## Feature engineering\n",
    "\n",
    "# ------------------------------------------------------------------\n",
    "# Lithology flags (ultramafic & granodiorite proximity drivers)\n",
    "# ------------------------------------------------------------------\n",
    "# Build a lowercase text blob for keyword searches\n",
    "text_cols = [\"rock_type\", \"unit_desc\", \"strat_name\"]\n",
    "gdf[\"_search\"] = (\n",
    "    gdf[text_cols]\n",
    "    .fillna(\"\")\n",
    "    .agg(\" | \".join, axis=1)\n",
    "    .str.lower()\n",
    ")\n",
    "\n",
    "# Binary indicators for target lithologies\n",
    "gdf[\"is_ultramafic\"] = gdf[\"_search\"].str.contains(\n",
    "    r\"(?:ultramafic|serpentinite|peridotite)\"\n",
    ").astype(int)\n",
    "\n",
    "gdf[\"is_granodiorite\"] = gdf[\"_search\"].str.contains(\n",
    "    r\"\\bgranodiorite\\b\"\n",
    ").astype(int)\n",
    "\n",
    "# ------------------------------------------------------------------\n",
    "# Rock‑class back‑fill (simple heuristic)\n",
    "# ------------------------------------------------------------------\n",
    "class_map = {\"granodiorite\": \"plutonic\", \"serpentinite\": \"metamorphic\"}\n",
    "\n",
    "\n",
    "# todo is this right??\n",
    "def infer_class(row):\n",
    "    if pd.isna(row[\"rock_class\"]):\n",
    "        for k, v in class_map.items():\n",
    "            if k in row[\"_search\"]:\n",
    "                return v\n",
    "    return row[\"rock_class\"]\n",
    "\n",
    "gdf[\"inferred_rock_class\"] = gdf.apply(infer_class, axis=1)\n",
    "gdf.drop(columns=[\"_search\"], inplace=True)\n",
    "\n",
    "# Keep track of generated columns\n",
    "generated_cols = [\n",
    "    \"is_ultramafic\",\n",
    "    \"is_granodiorite\",\n",
    "    \"inferred_rock_class\",\n",
    "]"
   ]
  },
  {
   "cell_type": "code",
   "execution_count": 10,
   "id": "79f2848f",
   "metadata": {},
   "outputs": [
    {
     "name": "stdout",
     "output_type": "stream",
     "text": [
      "Column: is_ultramafic\n",
      "  Data type: int32\n",
      "\n",
      "\n",
      "Column: is_granodiorite\n",
      "  Data type: int32\n",
      "\n",
      "\n",
      "Column: inferred_rock_class\n",
      "  Value counts:\n",
      "sedimentary rocks    556\n",
      "intrusive rocks      455\n",
      "volcanic rocks       435\n",
      "metamorphic rocks    104\n",
      "ultramafic rocks      46\n",
      "Name: inferred_rock_class, dtype: int64\n",
      "\n",
      "\n",
      "\n"
     ]
    }
   ],
   "source": [
    "gen_columns_description = pt.df_more_info(gdf[generated_cols])\n",
    "print(gen_columns_description)"
   ]
  },
  {
   "cell_type": "code",
   "execution_count": 11,
   "id": "3e0efa38",
   "metadata": {},
   "outputs": [],
   "source": [
    "# # ------------------------------------------------------------------\n",
    "# # 8. Improved visualization\n",
    "# # ------------------------------------------------------------------\n",
    "# fig, ax = plt.subplots(figsize=(12, 12))  # Larger figure for better detail\n",
    "# grid.plot(\n",
    "#     column=\"cobalt_score\",\n",
    "#     ax=ax,\n",
    "#     cmap=\"plasma\",           # Better contrast colormap\n",
    "#     markersize=1,            # Smaller markers for higher resolution\n",
    "#     scheme=\"quantiles\",\n",
    "#     legend=True\n",
    "# )\n",
    "\n",
    "# # Add geological context\n",
    "# gdf.boundary.plot(ax=ax, color=\"white\", linewidth=0.3, alpha=0.7)\n",
    "\n",
    "# # Highlight target lithologies\n",
    "# if len(gdf[gdf[\"is_ultramafic\"] == 1]) > 0:\n",
    "#     gdf[gdf[\"is_ultramafic\"] == 1].plot(ax=ax, color=\"red\", alpha=0.8, \n",
    "#                                         edgecolor=\"darkred\", linewidth=0.5, label=\"Ultramafic\")\n",
    "# if len(gdf[gdf[\"is_granodiorite\"] == 1]) > 0:\n",
    "#     gdf[gdf[\"is_granodiorite\"] == 1].plot(ax=ax, color=\"blue\", alpha=0.8, \n",
    "#                                           edgecolor=\"darkblue\", linewidth=0.5, label=\"Granodiorite\")\n",
    "\n",
    "# ax.set_title(\"Cobalt Prospectivity Heatmap\\n(Exponential Decay Model - 500m Resolution)\", \n",
    "#              fontsize=16, pad=20)\n",
    "# ax.legend(loc='upper right')\n",
    "# plt.axis(\"equal\")\n",
    "# plt.tight_layout()\n",
    "# plt.show()\n",
    "\n",
    "# # ------------------------------------------------------------------\n",
    "# # 9. Score distribution analysis\n",
    "# # ------------------------------------------------------------------\n",
    "# print(f\"\\nScore Statistics:\")\n",
    "# print(grid[\"cobalt_score\"].describe())\n",
    "# print(f\"Unique values: {grid['cobalt_score'].nunique()}\")\n",
    "# print(f\"Grid points: {len(grid)}\")"
   ]
  },
  {
   "cell_type": "code",
   "execution_count": 12,
   "metadata": {},
   "outputs": [],
   "source": [
    "# import geopandas as gpd\n",
    "# import numpy as np\n",
    "# from shapely.geometry import Point\n",
    "# import matplotlib.pyplot as plt\n",
    "\n",
    "# # ------------------------------------------------------------------\n",
    "# # 0.  PARAMETERS  (edit here)\n",
    "# # ------------------------------------------------------------------\n",
    "# ULTRAMAFIC_WEIGHT   = 2.0      # serpentinised / ultramafic carries most Co signal\n",
    "# GRANODIORITE_WEIGHT = 1.0      # fertile intrusions carry secondary weight\n",
    "# CELL_SIZE_M         = 2_000    # grid resolution (m) → 2 km pixels\n",
    "# DECAY_DISTANCE_M    = 15_000   # distance at which influence decays to ~37% (1/e)\n",
    "# CRS_EQUAL_AREA      = 3978     # NAD83 Canada Albers; swap if you work elsewhere\n",
    "# # ------------------------------------------------------------------\n",
    "\n",
    "# # 1.  Re‑project to an equal‑area CRS for distance work\n",
    "# if gdf.crs is None or gdf.crs.is_geographic:\n",
    "#     gdf = gdf.to_crs(CRS_EQUAL_AREA)\n",
    "\n",
    "# # 2.  Build unified target geometries\n",
    "# ultra_union  = gdf[gdf[\"is_ultramafic\"] == 1].geometry.unary_union\n",
    "# grano_union  = gdf[gdf[\"is_granodiorite\"] == 1].geometry.unary_union\n",
    "\n",
    "# # 3.  Create a fishnet grid that covers the study area\n",
    "# xmin, ymin, xmax, ymax = gdf.total_bounds\n",
    "# xs = np.arange(xmin, xmax + CELL_SIZE_M, CELL_SIZE_M)\n",
    "# ys = np.arange(ymin, ymax + CELL_SIZE_M, CELL_SIZE_M)\n",
    "# grid_points = [Point(x, y) for x in xs for y in ys]\n",
    "# grid = gpd.GeoDataFrame(geometry=grid_points, crs=gdf.crs)\n",
    "\n",
    "# # 4.  Compute distances to each target set (no capping needed with exponential decay)\n",
    "# grid[\"d_ultra\"] = grid.geometry.apply(lambda p: p.distance(ultra_union))\n",
    "# grid[\"d_grano\"] = grid.geometry.apply(lambda p: p.distance(grano_union))\n",
    "\n",
    "# # 5.  Transform distances into scores using exponential decay\n",
    "# #     This provides smooth, continuous scoring without hard cutoffs\n",
    "# grid[\"s_ultra\"] = ULTRAMAFIC_WEIGHT * np.exp(-grid[\"d_ultra\"] / DECAY_DISTANCE_M)\n",
    "# grid[\"s_grano\"] = GRANODIORITE_WEIGHT * np.exp(-grid[\"d_grano\"] / DECAY_DISTANCE_M)\n",
    "\n",
    "# # 6.  Final prospectivity score\n",
    "# grid[\"cobalt_score\"] = grid[\"s_ultra\"] + grid[\"s_grano\"]\n",
    "\n",
    "# # 7.  Classify into quantiles for mapping (now with much better distribution)\n",
    "# try:\n",
    "#     grid[\"score_class\"] = pd.qcut(grid[\"cobalt_score\"], q=5, labels=False)\n",
    "#     print(\"Successfully used quantile-based classification\")\n",
    "# except ValueError as e:\n",
    "#     print(f\"Quantile classification failed: {e}\")\n",
    "#     print(\"Falling back to equal-width binning\")\n",
    "#     grid[\"score_class\"] = pd.cut(grid[\"cobalt_score\"], bins=5, labels=False)\n",
    "\n",
    "# # Check the class distribution\n",
    "# print(\"\\nScore class distribution:\")\n",
    "# print(grid[\"score_class\"].value_counts().sort_index())\n",
    "\n",
    "# # ------------------------------------------------------------------\n",
    "# # 8.  Quick visual sanity‑check\n",
    "# # ------------------------------------------------------------------\n",
    "# fig, ax = plt.subplots(figsize=(8, 8))\n",
    "# grid.plot(column=\"cobalt_score\",\n",
    "#           ax=ax,\n",
    "#           cmap=\"viridis\",\n",
    "#           markersize=8,\n",
    "#           scheme=\"quantiles\",\n",
    "#           legend=True)\n",
    "# gdf.boundary.plot(ax=ax, color=\"black\", linewidth=0.2)\n",
    "# ax.set_title(\"Cobalt prospectivity (exponential decay model)\")\n",
    "# plt.axis(\"equal\")\n",
    "# plt.show()\n",
    "\n",
    "# # ------------------------------------------------------------------\n",
    "# # 9.  Investigate the NEW score distribution\n",
    "# # ------------------------------------------------------------------\n",
    "# print(\"\\nNEW Cobalt Score Statistics:\")\n",
    "# print(grid[\"cobalt_score\"].describe())\n",
    "# print(f\"\\nUnique values: {grid['cobalt_score'].nunique()}\")\n",
    "# print(f\"Total points: {len(grid)}\")\n",
    "\n",
    "# # Check for the most common values\n",
    "# print(\"\\nMost common scores:\")\n",
    "# print(grid[\"cobalt_score\"].value_counts().head(10))\n",
    "\n",
    "# # Plot histogram\n",
    "# plt.figure(figsize=(10, 6))\n",
    "# plt.hist(grid[\"cobalt_score\"], bins=50, alpha=0.7)\n",
    "# plt.xlabel(\"Cobalt Score\")\n",
    "# plt.ylabel(\"Frequency\")\n",
    "# plt.title(\"Distribution of Cobalt Scores (Exponential Decay)\")\n",
    "# plt.show()\n",
    "\n",
    "# # Optional: Show the decay curves\n",
    "# plt.figure(figsize=(12, 4))\n",
    "\n",
    "# # Subplot 1: Ultramafic influence\n",
    "# plt.subplot(1, 2, 1)\n",
    "# distances = np.linspace(0, 50000, 1000)\n",
    "# influence = ULTRAMAFIC_WEIGHT * np.exp(-distances / DECAY_DISTANCE_M)\n",
    "# plt.plot(distances/1000, influence, 'b-', linewidth=2)\n",
    "# plt.xlabel('Distance (km)')\n",
    "# plt.ylabel('Influence Score')\n",
    "# plt.title('Ultramafic Influence vs Distance')\n",
    "# plt.grid(True, alpha=0.3)\n",
    "\n",
    "# # Subplot 2: Granodiorite influence\n",
    "# plt.subplot(1, 2, 2)\n",
    "# influence = GRANODIORITE_WEIGHT * np.exp(-distances / DECAY_DISTANCE_M)\n",
    "# plt.plot(distances/1000, influence, 'r-', linewidth=2)\n",
    "# plt.xlabel('Distance (km)')\n",
    "# plt.ylabel('Influence Score')\n",
    "# plt.title('Granodiorite Influence vs Distance')\n",
    "# plt.grid(True, alpha=0.3)\n",
    "\n",
    "# plt.tight_layout()\n",
    "# plt.show()"
   ]
  },
  {
   "cell_type": "code",
   "execution_count": 13,
   "id": "cb457f8d",
   "metadata": {},
   "outputs": [],
   "source": [
    "##############################################################"
   ]
  },
  {
   "cell_type": "code",
   "execution_count": null,
   "id": "4b1e81d3",
   "metadata": {},
   "outputs": [],
   "source": []
  },
  {
   "cell_type": "code",
   "execution_count": null,
   "id": "05531347",
   "metadata": {},
   "outputs": [],
   "source": []
  },
  {
   "cell_type": "code",
   "execution_count": null,
   "metadata": {},
   "outputs": [],
   "source": []
  },
  {
   "cell_type": "code",
   "execution_count": null,
   "id": "007bf886",
   "metadata": {},
   "outputs": [],
   "source": []
  },
  {
   "cell_type": "code",
   "execution_count": 14,
   "id": "599e272e",
   "metadata": {},
   "outputs": [],
   "source": [
    "# Load rock polygons\n",
    "rock_a, rock_b = pt.load_bedrock(gdf)"
   ]
  },
  {
   "cell_type": "code",
   "execution_count": 15,
   "id": "337def81",
   "metadata": {},
   "outputs": [],
   "source": [
    "#rock_a.explore(color=\"red\", label=\"Ultramafic\")\n",
    "#rock_b.explore(color=\"blue\", label=\"Granodiorite\")\n",
    "#gdf.explore(color=\"grey\", label=\"Other Lithologies\", alpha=0.1)"
   ]
  },
  {
   "cell_type": "code",
   "execution_count": 16,
   "id": "90caf540",
   "metadata": {},
   "outputs": [],
   "source": [
    "# Build the hexagon grid covering both rock types\n",
    "grid = pt.build_grid(rock_a, rock_b)"
   ]
  },
  {
   "cell_type": "code",
   "execution_count": 17,
   "id": "ca7b4341",
   "metadata": {},
   "outputs": [
    {
     "data": {
      "text/plain": [
       "<module 'prospectivity_tools.viz' from 'C:\\\\Users\\\\chris\\\\Documents\\\\GitHub\\\\prospectivity-heatmap\\\\src\\\\prospectivity_tools\\\\viz.py'>"
      ]
     },
     "execution_count": 17,
     "metadata": {},
     "output_type": "execute_result"
    }
   ],
   "source": [
    "# Reload the module to get the updated code\n",
    "import importlib\n",
    "importlib.reload(pt.viz)"
   ]
  },
  {
   "cell_type": "code",
   "execution_count": 18,
   "id": "97113fd6",
   "metadata": {},
   "outputs": [],
   "source": [
    "# Compute distances to each rock type\n",
    "grid = pt.add_distance_columns(grid, rock_a, rock_b, crs=pt.settings.crs)"
   ]
  },
  {
   "cell_type": "code",
   "execution_count": 19,
   "id": "3a8a1bdc",
   "metadata": {},
   "outputs": [],
   "source": [
    "# Calculate likelihood scores using the Gaussian kernel\n",
    "scored = pt.compute_likelihood(grid)"
   ]
  },
  {
   "cell_type": "code",
   "execution_count": 22,
   "id": "ea35c8b0",
   "metadata": {},
   "outputs": [
    {
     "data": {
      "text/html": [
       "<div>\n",
       "<style scoped>\n",
       "    .dataframe tbody tr th:only-of-type {\n",
       "        vertical-align: middle;\n",
       "    }\n",
       "\n",
       "    .dataframe tbody tr th {\n",
       "        vertical-align: top;\n",
       "    }\n",
       "\n",
       "    .dataframe thead th {\n",
       "        text-align: right;\n",
       "    }\n",
       "</style>\n",
       "<table border=\"1\" class=\"dataframe\">\n",
       "  <thead>\n",
       "    <tr style=\"text-align: right;\">\n",
       "      <th></th>\n",
       "      <th>h3_id</th>\n",
       "      <th>score</th>\n",
       "    </tr>\n",
       "  </thead>\n",
       "  <tbody>\n",
       "  </tbody>\n",
       "</table>\n",
       "</div>"
      ],
      "text/plain": [
       "Empty DataFrame\n",
       "Columns: [h3_id, score]\n",
       "Index: []"
      ]
     },
     "execution_count": 22,
     "metadata": {},
     "output_type": "execute_result"
    }
   ],
   "source": [
    "scored"
   ]
  },
  {
   "cell_type": "code",
   "execution_count": 20,
   "id": "1f8e4105",
   "metadata": {},
   "outputs": [
    {
     "name": "stdout",
     "output_type": "stream",
     "text": [
      "Warning: DataFrame is empty, returning empty map\n"
     ]
    }
   ],
   "source": [
    "# Persist results\n",
    "out_path = pt.write_parquet(scored)\n",
    "\n",
    "# Create an interactive map\n",
    "html_path = pt.build_map(scored)"
   ]
  },
  {
   "cell_type": "code",
   "execution_count": 21,
   "id": "9c85b955",
   "metadata": {},
   "outputs": [
    {
     "data": {
      "text/html": [
       "<div style=\"width:100%;\"><div style=\"position:relative;width:100%;height:0;padding-bottom:60%;\"><span style=\"color:#565656\">Make this Notebook Trusted to load map: File -> Trust Notebook</span><iframe srcdoc=\"&lt;!DOCTYPE html&gt;\n",
       "&lt;html&gt;\n",
       "&lt;head&gt;\n",
       "    \n",
       "    &lt;meta http-equiv=&quot;content-type&quot; content=&quot;text/html; charset=UTF-8&quot; /&gt;\n",
       "    \n",
       "        &lt;script&gt;\n",
       "            L_NO_TOUCH = false;\n",
       "            L_DISABLE_3D = false;\n",
       "        &lt;/script&gt;\n",
       "    \n",
       "    &lt;style&gt;html, body {width: 100%;height: 100%;margin: 0;padding: 0;}&lt;/style&gt;\n",
       "    &lt;style&gt;#map {position:absolute;top:0;bottom:0;right:0;left:0;}&lt;/style&gt;\n",
       "    &lt;script src=&quot;https://cdn.jsdelivr.net/npm/leaflet@1.6.0/dist/leaflet.js&quot;&gt;&lt;/script&gt;\n",
       "    &lt;script src=&quot;https://code.jquery.com/jquery-1.12.4.min.js&quot;&gt;&lt;/script&gt;\n",
       "    &lt;script src=&quot;https://maxcdn.bootstrapcdn.com/bootstrap/3.2.0/js/bootstrap.min.js&quot;&gt;&lt;/script&gt;\n",
       "    &lt;script src=&quot;https://cdnjs.cloudflare.com/ajax/libs/Leaflet.awesome-markers/2.0.2/leaflet.awesome-markers.js&quot;&gt;&lt;/script&gt;\n",
       "    &lt;link rel=&quot;stylesheet&quot; href=&quot;https://cdn.jsdelivr.net/npm/leaflet@1.6.0/dist/leaflet.css&quot;/&gt;\n",
       "    &lt;link rel=&quot;stylesheet&quot; href=&quot;https://maxcdn.bootstrapcdn.com/bootstrap/3.2.0/css/bootstrap.min.css&quot;/&gt;\n",
       "    &lt;link rel=&quot;stylesheet&quot; href=&quot;https://maxcdn.bootstrapcdn.com/bootstrap/3.2.0/css/bootstrap-theme.min.css&quot;/&gt;\n",
       "    &lt;link rel=&quot;stylesheet&quot; href=&quot;https://maxcdn.bootstrapcdn.com/font-awesome/4.6.3/css/font-awesome.min.css&quot;/&gt;\n",
       "    &lt;link rel=&quot;stylesheet&quot; href=&quot;https://cdnjs.cloudflare.com/ajax/libs/Leaflet.awesome-markers/2.0.2/leaflet.awesome-markers.css&quot;/&gt;\n",
       "    &lt;link rel=&quot;stylesheet&quot; href=&quot;https://cdn.jsdelivr.net/gh/python-visualization/folium/folium/templates/leaflet.awesome.rotate.min.css&quot;/&gt;\n",
       "    \n",
       "            &lt;meta name=&quot;viewport&quot; content=&quot;width=device-width,\n",
       "                initial-scale=1.0, maximum-scale=1.0, user-scalable=no&quot; /&gt;\n",
       "            &lt;style&gt;\n",
       "                #map_faba651b0d4cf5ea8c2c6cbbc2cf73ca {\n",
       "                    position: relative;\n",
       "                    width: 100.0%;\n",
       "                    height: 100.0%;\n",
       "                    left: 0.0%;\n",
       "                    top: 0.0%;\n",
       "                }\n",
       "            &lt;/style&gt;\n",
       "        \n",
       "&lt;/head&gt;\n",
       "&lt;body&gt;\n",
       "    \n",
       "    \n",
       "            &lt;div class=&quot;folium-map&quot; id=&quot;map_faba651b0d4cf5ea8c2c6cbbc2cf73ca&quot; &gt;&lt;/div&gt;\n",
       "        \n",
       "&lt;/body&gt;\n",
       "&lt;script&gt;\n",
       "    \n",
       "    \n",
       "            var map_faba651b0d4cf5ea8c2c6cbbc2cf73ca = L.map(\n",
       "                &quot;map_faba651b0d4cf5ea8c2c6cbbc2cf73ca&quot;,\n",
       "                {\n",
       "                    center: [50.0, -122.0],\n",
       "                    crs: L.CRS.EPSG3857,\n",
       "                    zoom: 7,\n",
       "                    zoomControl: true,\n",
       "                    preferCanvas: false,\n",
       "                }\n",
       "            );\n",
       "\n",
       "            \n",
       "\n",
       "        \n",
       "    \n",
       "            var tile_layer_979eb9c0e5b10be4da8adea90cc8d4e8 = L.tileLayer(\n",
       "                &quot;https://cartodb-basemaps-{s}.global.ssl.fastly.net/light_all/{z}/{x}/{y}.png&quot;,\n",
       "                {&quot;attribution&quot;: &quot;\\u0026copy; \\u003ca href=\\&quot;http://www.openstreetmap.org/copyright\\&quot;\\u003eOpenStreetMap\\u003c/a\\u003e contributors \\u0026copy; \\u003ca href=\\&quot;http://cartodb.com/attributions\\&quot;\\u003eCartoDB\\u003c/a\\u003e, CartoDB \\u003ca href =\\&quot;http://cartodb.com/attributions\\&quot;\\u003eattributions\\u003c/a\\u003e&quot;, &quot;detectRetina&quot;: false, &quot;maxNativeZoom&quot;: 18, &quot;maxZoom&quot;: 18, &quot;minZoom&quot;: 0, &quot;noWrap&quot;: false, &quot;opacity&quot;: 1, &quot;subdomains&quot;: &quot;abc&quot;, &quot;tms&quot;: false}\n",
       "            ).addTo(map_faba651b0d4cf5ea8c2c6cbbc2cf73ca);\n",
       "        \n",
       "&lt;/script&gt;\n",
       "&lt;/html&gt;\" style=\"position:absolute;width:100%;height:100%;left:0;top:0;border:none !important;\" allowfullscreen webkitallowfullscreen mozallowfullscreen></iframe></div></div>"
      ],
      "text/plain": [
       "<folium.folium.Map at 0x253695b1420>"
      ]
     },
     "execution_count": 21,
     "metadata": {},
     "output_type": "execute_result"
    }
   ],
   "source": [
    "html_path"
   ]
  },
  {
   "cell_type": "code",
   "execution_count": null,
   "id": "63548839",
   "metadata": {},
   "outputs": [],
   "source": []
  }
 ],
 "metadata": {
  "kernelspec": {
   "display_name": "prospectivity-tools",
   "language": "python",
   "name": "python3"
  },
  "language_info": {
   "codemirror_mode": {
    "name": "ipython",
    "version": 3
   },
   "file_extension": ".py",
   "mimetype": "text/x-python",
   "name": "python",
   "nbconvert_exporter": "python",
   "pygments_lexer": "ipython3",
   "version": "3.10.0"
  }
 },
 "nbformat": 4,
 "nbformat_minor": 5
}
